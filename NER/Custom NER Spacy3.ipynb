{
 "cells": [
  {
   "cell_type": "code",
   "execution_count": 1,
   "id": "db08376d",
   "metadata": {},
   "outputs": [],
   "source": [
    "# ! pip install -U spacy -q"
   ]
  },
  {
   "cell_type": "code",
   "execution_count": 2,
   "id": "b649d432",
   "metadata": {},
   "outputs": [],
   "source": [
    "# ! python -m spacy info"
   ]
  },
  {
   "cell_type": "code",
   "execution_count": 1,
   "id": "83ed5627",
   "metadata": {},
   "outputs": [
    {
     "name": "stderr",
     "output_type": "stream",
     "text": [
      "2022-07-13 21:42:04.882708: I tensorflow/core/util/util.cc:169] oneDNN custom operations are on. You may see slightly different numerical results due to floating-point round-off errors from different computation orders. To turn them off, set the environment variable `TF_ENABLE_ONEDNN_OPTS=0`.\n",
      "2022-07-13 21:42:07.476226: W tensorflow/stream_executor/platform/default/dso_loader.cc:64] Could not load dynamic library 'libcudart.so.11.0'; dlerror: libcudart.so.11.0: cannot open shared object file: No such file or directory\n",
      "2022-07-13 21:42:07.476243: I tensorflow/stream_executor/cuda/cudart_stub.cc:29] Ignore above cudart dlerror if you do not have a GPU set up on your machine.\n"
     ]
    }
   ],
   "source": [
    "import spacy\n",
    "from spacy.tokens import DocBin\n",
    "from tqdm import tqdm\n",
    "\n",
    "nlp = spacy.blank('fr') #load a new spacy model\n",
    "db=DocBin() # create a Docbin object\n"
   ]
  },
  {
   "cell_type": "code",
   "execution_count": 31,
   "id": "7c403a92",
   "metadata": {},
   "outputs": [],
   "source": [
    "import json\n",
    "f = open(\"annotations.json\")\n",
    "TRAIN_DATA = json.load(f)"
   ]
  },
  {
   "cell_type": "code",
   "execution_count": 32,
   "id": "d6c75ab5",
   "metadata": {},
   "outputs": [
    {
     "data": {
      "text/plain": [
       "{'classes': ['ACTION', 'CIBLE', 'VALEUR'],\n",
       " 'annotations': [['Ouvrir le dossier  Bobo \\r',\n",
       "   {'entities': [[0, 6, 'ACTION'], [10, 17, 'CIBLE'], [19, 23, 'VALEUR']]}],\n",
       "  ['Lister le  dossier  Documents \\r',\n",
       "   {'entities': [[0, 6, 'ACTION'], [11, 18, 'CIBLE'], [20, 29, 'VALEUR']]}],\n",
       "  ['Ouvrir le fichier   algo.txt \\r',\n",
       "   {'entities': [[0, 6, 'ACTION'], [10, 17, 'CIBLE'], [20, 28, 'VALEUR']]}],\n",
       "  ['écrire dans le fichier  algo.txt \\r',\n",
       "   {'entities': [[0, 6, 'ACTION'], [15, 22, 'CIBLE'], [24, 32, 'VALEUR']]}],\n",
       "  ['Augmenter le volume de  5% \\r',\n",
       "   {'entities': [[0, 9, 'ACTION'], [13, 19, 'CIBLE'], [24, 26, 'VALEUR']]}],\n",
       "  ['Dimunier le son de  5% \\r',\n",
       "   {'entities': [[0, 8, 'ACTION'], [12, 15, 'CIBLE'], [20, 22, 'VALEUR']]}],\n",
       "  ['Augmenter la luminosité de  0.5 \\r',\n",
       "   {'entities': [[0, 9, 'ACTION'], [13, 23, 'CIBLE'], [28, 31, 'VALEUR']]}],\n",
       "  ['Dimunier luminosité de  1.5 \\r',\n",
       "   {'entities': [[0, 8, 'ACTION'], [9, 19, 'CIBLE'], [24, 27, 'VALEUR']]}],\n",
       "  ['Lire le fichier  toto.pdf \\r',\n",
       "   {'entities': [[0, 4, 'ACTION'], [8, 15, 'CIBLE'], [17, 25, 'VALEUR']]}],\n",
       "  ['Couper le fichier  rayon.py  et le déplacer dans le dossier  Bureau \\r',\n",
       "   {'entities': [[0, 6, 'ACTION'],\n",
       "     [10, 17, 'CIBLE'],\n",
       "     [19, 27, 'VALEUR'],\n",
       "     [35, 43, 'ACTION'],\n",
       "     [52, 59, 'CIBLE'],\n",
       "     [61, 67, 'VALEUR']]}],\n",
       "  ['Supprimer le fichier  najoua.png \\r',\n",
       "   {'entities': [[0, 9, 'ACTION'], [13, 20, 'CIBLE'], [22, 32, 'VALEUR']]}],\n",
       "  ['créer le fichier  love.txt \\r',\n",
       "   {'entities': [[0, 5, 'ACTION'], [9, 16, 'CIBLE'], [18, 26, 'VALEUR']]}],\n",
       "  ['créer un dossier  Papa \\r',\n",
       "   {'entities': [[0, 5, 'ACTION'], [9, 16, 'CIBLE'], [18, 22, 'VALEUR']]}],\n",
       "  ['baisser le volume de  30% \\r',\n",
       "   {'entities': [[0, 7, 'ACTION'], [11, 17, 'CIBLE'], [22, 25, 'VALEUR']]}],\n",
       "  ['diminuer la luminosité de  3% , puis ouvrir le fichier  document.pdf \\r',\n",
       "   {'entities': [[0, 8, 'ACTION'],\n",
       "     [12, 22, 'CIBLE'],\n",
       "     [27, 29, 'VALEUR'],\n",
       "     [37, 43, 'ACTION'],\n",
       "     [47, 54, 'CIBLE'],\n",
       "     [56, 68, 'VALEUR']]}],\n",
       "  ['Se déplacer dans le dossier  Bern  puis lister les éléments du dossier Bern\\r',\n",
       "   {'entities': [[3, 11, 'ACTION'],\n",
       "     [20, 27, 'CIBLE'],\n",
       "     [29, 33, 'VALEUR'],\n",
       "     [40, 46, 'ACTION'],\n",
       "     [63, 70, 'CIBLE'],\n",
       "     [71, 75, 'VALEUR']]}],\n",
       "  ['renommer le fichier  corner.py  en  cor.py  \\r',\n",
       "   {'entities': [[0, 8, 'ACTION'],\n",
       "     [12, 19, 'CIBLE'],\n",
       "     [21, 30, 'VALEUR'],\n",
       "     [36, 42, 'VALEUR']]}],\n",
       "  ['déplacer le fichier cor.py dans le dossier  tactique \\r',\n",
       "   {'entities': [[0, 8, 'ACTION'],\n",
       "     [12, 19, 'CIBLE'],\n",
       "     [20, 26, 'VALEUR'],\n",
       "     [35, 42, 'CIBLE'],\n",
       "     [44, 52, 'VALEUR']]}],\n",
       "  ['créer le dossier  Succès\\r',\n",
       "   {'entities': [[0, 5, 'ACTION'], [9, 16, 'CIBLE'], [18, 24, 'VALEUR']]}],\n",
       "  ['lancer le navigateur  google-chrome\\r',\n",
       "   {'entities': [[0, 6, 'ACTION'], [10, 20, 'CIBLE'], [22, 35, 'VALEUR']]}],\n",
       "  ['lancer application  terminal \\r',\n",
       "   {'entities': [[0, 6, 'ACTION'], [7, 18, 'CIBLE'], [20, 28, 'VALEUR']]}],\n",
       "  ['lancer application  gedit  \\r',\n",
       "   {'entities': [[0, 6, 'ACTION'], [7, 18, 'CIBLE'], [20, 25, 'VALEUR']]}],\n",
       "  ['renommer le fichier  computer.txt en cmp.txt\\r',\n",
       "   {'entities': [[0, 8, 'ACTION'],\n",
       "     [12, 19, 'CIBLE'],\n",
       "     [21, 33, 'VALEUR'],\n",
       "     [37, 44, 'VALEUR']]}],\n",
       "  ['créer le dossier  UM6P \\r',\n",
       "   {'entities': [[0, 5, 'ACTION'], [9, 16, 'CIBLE'], [18, 22, 'VALEUR']]}],\n",
       "  ['renommer le dossier  Livre \\r',\n",
       "   {'entities': [[0, 8, 'ACTION'], [12, 19, 'CIBLE'], [21, 26, 'VALEUR']]}],\n",
       "  ['ouvrir le fichier  jada.txt  \\r',\n",
       "   {'entities': [[0, 6, 'ACTION'], [10, 17, 'CIBLE'], [19, 27, 'VALEUR']]}],\n",
       "  ['fermer application  google-chrome \\r',\n",
       "   {'entities': [[0, 6, 'ACTION'], [7, 18, 'CIBLE'], [20, 33, 'VALEUR']]}],\n",
       "  ['fermer le fichier  rmc.txt \\r',\n",
       "   {'entities': [[0, 6, 'ACTION'], [10, 17, 'CIBLE'], [19, 26, 'VALEUR']]}],\n",
       "  ['écrire dans le fichier  manger.py \\r',\n",
       "   {'entities': [[0, 6, 'ACTION'], [15, 22, 'CIBLE'], [24, 33, 'VALEUR']]}],\n",
       "  ['fermer application  gedit  puis créer le dossier  Maman \\r',\n",
       "   {'entities': [[0, 6, 'ACTION'],\n",
       "     [7, 18, 'CIBLE'],\n",
       "     [20, 25, 'VALEUR'],\n",
       "     [32, 37, 'ACTION'],\n",
       "     [41, 48, 'CIBLE'],\n",
       "     [50, 55, 'VALEUR']]}],\n",
       "  ['ouvrir le fichier  blabla.txt  , lire le fichier  blabla.txt , fermer le fichier  blabla.txt \\r',\n",
       "   {'entities': [[0, 6, 'ACTION'],\n",
       "     [10, 17, 'CIBLE'],\n",
       "     [19, 29, 'VALEUR'],\n",
       "     [33, 37, 'ACTION'],\n",
       "     [41, 48, 'CIBLE'],\n",
       "     [50, 60, 'VALEUR'],\n",
       "     [63, 69, 'ACTION'],\n",
       "     [73, 80, 'CIBLE'],\n",
       "     [82, 92, 'VALEUR']]}],\n",
       "  ['ouvrir apllication  google-chrome , aller sur le site  liganium.org  puis fermer application  google-chrome \\r',\n",
       "   {'entities': [[0, 6, 'ACTION'],\n",
       "     [7, 18, 'CIBLE'],\n",
       "     [20, 33, 'VALEUR'],\n",
       "     [36, 41, 'ACTION'],\n",
       "     [49, 53, 'CIBLE'],\n",
       "     [55, 67, 'VALEUR'],\n",
       "     [74, 80, 'ACTION'],\n",
       "     [81, 92, 'CIBLE'],\n",
       "     [94, 107, 'VALEUR']]}],\n",
       "  ['supprimer le fichier  blabla.txt \\r',\n",
       "   {'entities': [[0, 9, 'ACTION'], [13, 20, 'CIBLE'], [22, 32, 'VALEUR']]}],\n",
       "  ['supprimer le dossier  choco \\r',\n",
       "   {'entities': [[0, 9, 'ACTION'], [13, 20, 'CIBLE'], [22, 27, 'VALEUR']]}],\n",
       "  ['créer le dossier  IA , se déplacer dans le dossier  IA , et créer le fichier  ML.txt  \\r',\n",
       "   {'entities': [[0, 5, 'ACTION'],\n",
       "     [9, 16, 'CIBLE'],\n",
       "     [18, 20, 'VALEUR'],\n",
       "     [26, 34, 'ACTION'],\n",
       "     [43, 50, 'CIBLE'],\n",
       "     [52, 54, 'VALEUR'],\n",
       "     [60, 65, 'ACTION'],\n",
       "     [69, 76, 'CIBLE'],\n",
       "     [78, 84, 'VALEUR']]}],\n",
       "  ['se déplacer dans le dossier  Trie , lister les éléments du dossier  Trie  \\r',\n",
       "   {'entities': [[3, 11, 'ACTION'],\n",
       "     [20, 27, 'CIBLE'],\n",
       "     [29, 33, 'VALEUR'],\n",
       "     [36, 42, 'ACTION'],\n",
       "     [59, 66, 'CIBLE'],\n",
       "     [68, 72, 'VALEUR']]}],\n",
       "  ['supprimer  le fichier  cobem.txt\\r',\n",
       "   {'entities': [[0, 9, 'ACTION'], [14, 21, 'CIBLE'], [23, 32, 'VALEUR']]}],\n",
       "  ['Ouvrir le dossier  Dow\\r',\n",
       "   {'entities': [[0, 6, 'ACTION'], [10, 17, 'CIBLE'], [19, 22, 'VALEUR']]}],\n",
       "  ['écrire dans le fichier  python.txt\\r',\n",
       "   {'entities': [[0, 6, 'ACTION'], [15, 22, 'CIBLE'], [24, 34, 'VALEUR']]}],\n",
       "  ['Augmenter le volume de  4%\\r',\n",
       "   {'entities': [[0, 9, 'ACTION'], [13, 19, 'CIBLE'], [24, 26, 'VALEUR']]}],\n",
       "  ['Lister le dossier  Dow\\r',\n",
       "   {'entities': [[0, 6, 'ACTION'], [10, 17, 'CIBLE'], [19, 22, 'VALEUR']]}],\n",
       "  ['Augmenter la luminosité de  0.5\\r',\n",
       "   {'entities': [[0, 9, 'ACTION'], [13, 23, 'CIBLE'], [28, 31, 'VALEUR']]}],\n",
       "  ['Diminuer le son de  1%\\r',\n",
       "   {'entities': [[0, 8, 'ACTION'], [12, 15, 'CIBLE'], [20, 22, 'VALEUR']]}],\n",
       "  ['Lire le fichier  cplus.txt\\r',\n",
       "   {'entities': [[0, 4, 'ACTION'], [8, 15, 'CIBLE'], [17, 26, 'VALEUR']]}],\n",
       "  ['Ouvrir le dossier  bibi\\r',\n",
       "   {'entities': [[0, 6, 'ACTION'], [10, 17, 'CIBLE'], [19, 23, 'VALEUR']]}],\n",
       "  ['Diminuer le son de  5%\\r',\n",
       "   {'entities': [[0, 8, 'ACTION'], [12, 15, 'CIBLE'], [20, 22, 'VALEUR']]}],\n",
       "  ['Augmenter la luminosité de  0.5\\r',\n",
       "   {'entities': [[0, 9, 'ACTION'], [13, 23, 'CIBLE'], [28, 31, 'VALEUR']]}],\n",
       "  ['Lister le dossier  bibi\\r',\n",
       "   {'entities': [[0, 6, 'ACTION'], [10, 17, 'CIBLE'], [19, 23, 'VALEUR']]}],\n",
       "  ['écrire dans le fichier  cplus.txt\\r',\n",
       "   {'entities': [[0, 6, 'ACTION'], [15, 22, 'CIBLE'], [24, 33, 'VALEUR']]}],\n",
       "  ['Diminuer luminosité de  0.9\\r',\n",
       "   {'entities': [[0, 8, 'ACTION'], [9, 19, 'CIBLE'], [24, 27, 'VALEUR']]}],\n",
       "  ['Augmenter le volume de  20%\\r',\n",
       "   {'entities': [[0, 9, 'ACTION'], [13, 19, 'CIBLE'], [24, 27, 'VALEUR']]}],\n",
       "  ['Diminuer luminosité de  1.5\\r',\n",
       "   {'entities': [[0, 8, 'ACTION'], [9, 19, 'CIBLE'], [24, 27, 'VALEUR']]}],\n",
       "  ['Ouvrir le dossier  Doc\\r',\n",
       "   {'entities': [[0, 6, 'ACTION'], [10, 17, 'CIBLE'], [19, 22, 'VALEUR']]}],\n",
       "  ['Augmenter la luminosité de  0.6\\r',\n",
       "   {'entities': [[0, 9, 'ACTION'], [13, 23, 'CIBLE'], [28, 31, 'VALEUR']]}],\n",
       "  ['Augmenter le volume de  10%\\r',\n",
       "   {'entities': [[0, 9, 'ACTION'], [13, 19, 'CIBLE'], [24, 27, 'VALEUR']]}],\n",
       "  ['Diminuer la luminosité de  1.0\\r',\n",
       "   {'entities': [[0, 8, 'ACTION'], [12, 22, 'CIBLE'], [27, 30, 'VALEUR']]}],\n",
       "  ['Lister le dossier  Doc\\r',\n",
       "   {'entities': [[0, 6, 'ACTION'], [10, 17, 'CIBLE'], [19, 22, 'VALEUR']]}],\n",
       "  ['Lire le fichier  home.pdf\\r',\n",
       "   {'entities': [[0, 4, 'ACTION'], [8, 15, 'CIBLE'], [17, 25, 'VALEUR']]}],\n",
       "  ['écrire dans le fichier  sql.txt\\r',\n",
       "   {'entities': [[0, 6, 'ACTION'], [15, 22, 'CIBLE'], [24, 31, 'VALEUR']]}],\n",
       "  ['Diminuer la luminosité de  0.5 \\r',\n",
       "   {'entities': [[0, 8, 'ACTION'], [12, 22, 'CIBLE'], [27, 30, 'VALEUR']]}],\n",
       "  ['Diminuer le son de  50%\\r',\n",
       "   {'entities': [[0, 8, 'ACTION'], [12, 15, 'CIBLE'], [20, 23, 'VALEUR']]}],\n",
       "  ['Augmenter la luminosité de  0.3\\r',\n",
       "   {'entities': [[0, 9, 'ACTION'], [13, 23, 'CIBLE'], [28, 31, 'VALEUR']]}],\n",
       "  ['Ouvrir le dossier  toto\\r',\n",
       "   {'entities': [[0, 6, 'ACTION'], [10, 17, 'CIBLE'], [19, 23, 'VALEUR']]}],\n",
       "  ['Lister le dossier  toto\\r',\n",
       "   {'entities': [[0, 6, 'ACTION'], [10, 17, 'CIBLE'], [19, 23, 'VALEUR']]}],\n",
       "  ['écrire dans le fichier  home.txt \\r',\n",
       "   {'entities': [[0, 6, 'ACTION'], [15, 22, 'CIBLE'], [24, 32, 'VALEUR']]}],\n",
       "  ['Augmenter le volume de  1%\\r',\n",
       "   {'entities': [[0, 9, 'ACTION'], [13, 19, 'CIBLE'], [24, 26, 'VALEUR']]}],\n",
       "  ['Diminuer le son de  2%\\r',\n",
       "   {'entities': [[0, 8, 'ACTION'], [12, 15, 'CIBLE'], [20, 22, 'VALEUR']]}],\n",
       "  ['Ouvrir le dossier  ber\\r',\n",
       "   {'entities': [[0, 6, 'ACTION'], [10, 17, 'CIBLE'], [19, 22, 'VALEUR']]}],\n",
       "  ['Lister le dossier  Ber\\r',\n",
       "   {'entities': [[0, 6, 'ACTION'], [10, 17, 'CIBLE'], [19, 22, 'VALEUR']]}],\n",
       "  ['écrire dans le fichier  exercice.txt\\r',\n",
       "   {'entities': [[0, 6, 'ACTION'], [15, 22, 'CIBLE'], [24, 36, 'VALEUR']]}],\n",
       "  ['Diminuer le son de  5%\\r',\n",
       "   {'entities': [[0, 8, 'ACTION'], [12, 15, 'CIBLE'], [20, 22, 'VALEUR']]}],\n",
       "  ['Ouvrir le dossier  Bor\\r',\n",
       "   {'entities': [[0, 6, 'ACTION'], [10, 17, 'CIBLE'], [19, 22, 'VALEUR']]}],\n",
       "  ['Supprimer le fichier  file.txt\\r',\n",
       "   {'entities': [[0, 9, 'ACTION'], [13, 20, 'CIBLE'], [22, 30, 'VALEUR']]}],\n",
       "  ['Ouvrir le dossier China\\r',\n",
       "   {'entities': [[0, 6, 'ACTION'], [10, 17, 'CIBLE'], [18, 23, 'VALEUR']]}],\n",
       "  ['Ouvrir le fichier laptop\\r',\n",
       "   {'entities': [[0, 6, 'ACTION'], [10, 17, 'CIBLE'], [18, 24, 'VALEUR']]}],\n",
       "  ['supprimer le dossier NAjoua\\r',\n",
       "   {'entities': [[0, 9, 'ACTION'], [13, 20, 'CIBLE'], [21, 27, 'VALEUR']]}],\n",
       "  ['créer le dossier USA\\r',\n",
       "   {'entities': [[0, 5, 'ACTION'], [9, 16, 'CIBLE'], [17, 20, 'VALEUR']]}],\n",
       "  ['créer le fichier William\\r',\n",
       "   {'entities': [[0, 5, 'ACTION'], [9, 16, 'CIBLE'], [17, 24, 'VALEUR']]}],\n",
       "  ['lister les éléments du dossier Mayar\\r',\n",
       "   {'entities': [[0, 6, 'ACTION'], [23, 30, 'CIBLE'], [31, 36, 'VALEUR']]}],\n",
       "  ['lister le contenu du dossier Youpi\\r',\n",
       "   {'entities': [[0, 6, 'ACTION'], [21, 28, 'CIBLE'], [29, 34, 'VALEUR']]}],\n",
       "  ['écrire dans le fichier Mit.csv\\r',\n",
       "   {'entities': [[0, 6, 'ACTION'], [15, 22, 'CIBLE'], [23, 30, 'VALEUR']]}],\n",
       "  ['ouvrir le dossier system\\r',\n",
       "   {'entities': [[0, 6, 'ACTION'], [10, 17, 'CIBLE'], [18, 24, 'VALEUR']]}],\n",
       "  ['supprimer le fichier jaccard.pdf\\r',\n",
       "   {'entities': [[0, 9, 'ACTION'], [13, 20, 'CIBLE'], [21, 32, 'VALEUR']]}],\n",
       "  ['diminuer la luminosité de 0.5\\r',\n",
       "   {'entities': [[0, 8, 'ACTION'], [12, 22, 'CIBLE'], [26, 29, 'VALEUR']]}],\n",
       "  ['descendre le volume de 50%\\r',\n",
       "   {'entities': [[0, 9, 'ACTION'], [13, 19, 'CIBLE'], [23, 26, 'VALEUR']]}],\n",
       "  ['fermer le dossier darogier\\r',\n",
       "   {'entities': [[0, 6, 'ACTION'], [10, 17, 'CIBLE'], [18, 26, 'VALEUR']]}],\n",
       "  ['fermer le fichier mouv.txt\\r',\n",
       "   {'entities': [[0, 6, 'ACTION'], [10, 17, 'CIBLE'], [18, 26, 'VALEUR']]}],\n",
       "  ['supprimer le dossier Calab\\r',\n",
       "   {'entities': [[0, 9, 'ACTION'], [13, 20, 'CIBLE'], [21, 26, 'VALEUR']]}],\n",
       "  ['créer un fichier Zoo.txt\\r',\n",
       "   {'entities': [[0, 5, 'ACTION'], [9, 16, 'CIBLE'], [17, 24, 'VALEUR']]}],\n",
       "  ['créer un dossier Kaleb\\r',\n",
       "   {'entities': [[0, 5, 'ACTION'], [9, 16, 'CIBLE'], [17, 22, 'VALEUR']]}],\n",
       "  ['lister le dossier Berber\\r',\n",
       "   {'entities': [[0, 6, 'ACTION'], [10, 17, 'CIBLE'], [18, 24, 'VALEUR']]}],\n",
       "  ['déplacer le fichier toto dans le dossier Nelson\\r',\n",
       "   {'entities': [[0, 8, 'ACTION'],\n",
       "     [12, 19, 'CIBLE'],\n",
       "     [20, 24, 'VALEUR'],\n",
       "     [33, 40, 'CIBLE'],\n",
       "     [41, 47, 'VALEUR']]}],\n",
       "  ['supprimer le dossier Aurel\\r',\n",
       "   {'entities': [[0, 9, 'ACTION'], [13, 20, 'CIBLE'], [21, 26, 'VALEUR']]}],\n",
       "  ['Supprimer le fichier Desire\\r',\n",
       "   {'entities': [[0, 9, 'ACTION'], [13, 20, 'CIBLE'], [21, 27, 'VALEUR']]}],\n",
       "  ['augmenter le volume de 60%\\r',\n",
       "   {'entities': [[0, 9, 'ACTION'], [13, 19, 'CIBLE'], [23, 26, 'VALEUR']]}],\n",
       "  ['copier le fichier amour dans le dossier haine\\r',\n",
       "   {'entities': [[0, 6, 'ACTION'],\n",
       "     [10, 17, 'CIBLE'],\n",
       "     [18, 23, 'VALEUR'],\n",
       "     [32, 39, 'CIBLE'],\n",
       "     [40, 45, 'VALEUR']]}],\n",
       "  ['ouvrir le fichier keldi.txt\\r',\n",
       "   {'entities': [[0, 6, 'ACTION'], [10, 17, 'CIBLE'], [18, 27, 'VALEUR']]}],\n",
       "  ['ouvrir le dossier Morse\\r',\n",
       "   {'entities': [[0, 6, 'ACTION'], [10, 17, 'CIBLE'], [18, 23, 'VALEUR']]}],\n",
       "  ['copier le dossier ML vers le dossier DL\\r',\n",
       "   {'entities': [[0, 6, 'ACTION'],\n",
       "     [10, 17, 'CIBLE'],\n",
       "     [18, 20, 'VALEUR'],\n",
       "     [29, 36, 'CIBLE'],\n",
       "     [37, 39, 'VALEUR']]}],\n",
       "  ['lister le dossier love\\r',\n",
       "   {'entities': [[0, 6, 'ACTION'], [10, 17, 'CIBLE'], [18, 22, 'VALEUR']]}]]}"
      ]
     },
     "execution_count": 32,
     "metadata": {},
     "output_type": "execute_result"
    }
   ],
   "source": [
    "TRAIN_DATA "
   ]
  },
  {
   "cell_type": "code",
   "execution_count": 33,
   "id": "52345244",
   "metadata": {},
   "outputs": [
    {
     "name": "stderr",
     "output_type": "stream",
     "text": [
      "100%|█████████████████████████████████████████| 100/100 [00:07<00:00, 13.55it/s]\n"
     ]
    }
   ],
   "source": [
    "for text,annot in tqdm(TRAIN_DATA['annotations']):\n",
    "    doc = nlp.make_doc(text)\n",
    "    ents = []\n",
    "    for start, end, label in annot['entities']:\n",
    "        span = doc.char_span(start, end, \n",
    "                             label=label, alignment_mode='contract')\n",
    "        if span is None:\n",
    "            print(\"Skipping entity\")\n",
    "        else:\n",
    "            ents.append(span)\n",
    "            \n",
    "    doc.ents = ents\n",
    "    db.add(doc)\n",
    "    \n",
    "db.to_disk(\"training_data.spacy\") # save the docbin object"
   ]
  },
  {
   "cell_type": "code",
   "execution_count": 34,
   "id": "ef201515",
   "metadata": {},
   "outputs": [
    {
     "name": "stdout",
     "output_type": "stream",
     "text": [
      "2022-07-14 01:29:29.187336: I tensorflow/core/util/util.cc:169] oneDNN custom operations are on. You may see slightly different numerical results due to floating-point round-off errors from different computation orders. To turn them off, set the environment variable `TF_ENABLE_ONEDNN_OPTS=0`.\n",
      "2022-07-14 01:29:35.327004: W tensorflow/stream_executor/platform/default/dso_loader.cc:64] Could not load dynamic library 'libcudart.so.11.0'; dlerror: libcudart.so.11.0: cannot open shared object file: No such file or directory\n",
      "2022-07-14 01:29:35.327034: I tensorflow/stream_executor/cuda/cudart_stub.cc:29] Ignore above cudart dlerror if you do not have a GPU set up on your machine.\n",
      "\u001b[38;5;3m⚠ To generate a more effective transformer-based config (GPU-only),\n",
      "install the spacy-transformers package and re-run this command. The config\n",
      "generated now does not use transformers.\u001b[0m\n",
      "\u001b[38;5;4mℹ Generated config template specific for your use case\u001b[0m\n",
      "- Language: fr\n",
      "- Pipeline: ner\n",
      "- Optimize for: efficiency\n",
      "- Hardware: CPU\n",
      "- Transformer: None\n",
      "\u001b[38;5;2m✔ Auto-filled config with all values\u001b[0m\n",
      "\u001b[38;5;2m✔ Saved config\u001b[0m\n",
      "config.cfg\n",
      "You can now add your data and train your pipeline:\n",
      "python -m spacy train config.cfg --paths.train ./train.spacy --paths.dev ./dev.spacy\n"
     ]
    }
   ],
   "source": [
    "! python -m spacy init config config.cfg --lang fr --pipeline ner --optimize efficiency "
   ]
  },
  {
   "cell_type": "code",
   "execution_count": 35,
   "id": "377192b1",
   "metadata": {},
   "outputs": [
    {
     "name": "stdout",
     "output_type": "stream",
     "text": [
      "2022-07-14 01:50:27.419930: I tensorflow/core/util/util.cc:169] oneDNN custom operations are on. You may see slightly different numerical results due to floating-point round-off errors from different computation orders. To turn them off, set the environment variable `TF_ENABLE_ONEDNN_OPTS=0`.\n",
      "2022-07-14 01:50:32.764456: W tensorflow/stream_executor/platform/default/dso_loader.cc:64] Could not load dynamic library 'libcudart.so.11.0'; dlerror: libcudart.so.11.0: cannot open shared object file: No such file or directory\n",
      "2022-07-14 01:50:32.764495: I tensorflow/stream_executor/cuda/cudart_stub.cc:29] Ignore above cudart dlerror if you do not have a GPU set up on your machine.\n",
      "\u001b[38;5;4mℹ Saving to output directory: .\u001b[0m\n",
      "\u001b[38;5;4mℹ Using CPU\u001b[0m\n",
      "\u001b[1m\n",
      "=========================== Initializing pipeline ===========================\u001b[0m\n",
      "[2022-07-14 01:53:05,820] [INFO] Set up nlp object from config\n",
      "[2022-07-14 01:53:05,830] [INFO] Pipeline: ['tok2vec', 'ner']\n",
      "[2022-07-14 01:53:05,833] [INFO] Created vocabulary\n",
      "[2022-07-14 01:53:05,835] [INFO] Finished initializing nlp object\n",
      "[2022-07-14 01:53:06,376] [INFO] Initialized pipeline components: ['tok2vec', 'ner']\n",
      "\u001b[38;5;2m✔ Initialized pipeline\u001b[0m\n",
      "\u001b[1m\n",
      "============================= Training pipeline =============================\u001b[0m\n",
      "\u001b[38;5;4mℹ Pipeline: ['tok2vec', 'ner']\u001b[0m\n",
      "\u001b[38;5;4mℹ Initial learn rate: 0.001\u001b[0m\n",
      "E    #       LOSS TOK2VEC  LOSS NER  ENTS_F  ENTS_P  ENTS_R  SCORE \n",
      "---  ------  ------------  --------  ------  ------  ------  ------\n",
      "  0       0          0.00     68.21   23.96   18.68   33.38    0.24\n",
      " 12     200         45.68   1277.24   99.87   99.87   99.87    1.00\n",
      " 27     400         22.05     47.55   99.87   99.87   99.87    1.00\n",
      " 46     600         23.93     43.83   99.60   99.60   99.60    1.00\n",
      " 68     800         27.79     50.28   99.87   99.87   99.87    1.00\n",
      " 96    1000        146.11     75.90   99.87   99.87   99.87    1.00\n",
      "129    1200        162.92     74.79   99.60   99.60   99.60    1.00\n",
      "169    1400        134.64     90.48   99.87   99.87   99.87    1.00\n",
      "219    1600        168.89    103.06   99.87   99.87   99.87    1.00\n",
      "279    1800       1497.96    136.55   99.87   99.87   99.87    1.00\n",
      "\u001b[38;5;2m✔ Saved pipeline to output directory\u001b[0m\n",
      "model-last\n"
     ]
    }
   ],
   "source": [
    "! python -m spacy train config.cfg --output ./ --paths.train ./training_data.spacy --paths.dev ./training_data.spacy "
   ]
  },
  {
   "cell_type": "code",
   "execution_count": 1,
   "id": "dfc3cc55",
   "metadata": {},
   "outputs": [
    {
     "name": "stderr",
     "output_type": "stream",
     "text": [
      "2022-07-12 17:50:44.306344: I tensorflow/core/util/util.cc:169] oneDNN custom operations are on. You may see slightly different numerical results due to floating-point round-off errors from different computation orders. To turn them off, set the environment variable `TF_ENABLE_ONEDNN_OPTS=0`.\n",
      "2022-07-12 17:50:49.574283: W tensorflow/stream_executor/platform/default/dso_loader.cc:64] Could not load dynamic library 'libcudart.so.11.0'; dlerror: libcudart.so.11.0: cannot open shared object file: No such file or directory\n",
      "2022-07-12 17:50:49.574310: I tensorflow/stream_executor/cuda/cudart_stub.cc:29] Ignore above cudart dlerror if you do not have a GPU set up on your machine.\n"
     ]
    }
   ],
   "source": [
    " #import spacy"
   ]
  },
  {
   "cell_type": "code",
   "execution_count": 1,
   "id": "30ade83e",
   "metadata": {},
   "outputs": [
    {
     "name": "stderr",
     "output_type": "stream",
     "text": [
      "2022-07-22 00:27:40.540684: I tensorflow/core/util/util.cc:169] oneDNN custom operations are on. You may see slightly different numerical results due to floating-point round-off errors from different computation orders. To turn them off, set the environment variable `TF_ENABLE_ONEDNN_OPTS=0`.\n",
      "2022-07-22 00:27:42.115302: W tensorflow/stream_executor/platform/default/dso_loader.cc:64] Could not load dynamic library 'libcudart.so.11.0'; dlerror: libcudart.so.11.0: cannot open shared object file: No such file or directory\n",
      "2022-07-22 00:27:42.115321: I tensorflow/stream_executor/cuda/cudart_stub.cc:29] Ignore above cudart dlerror if you do not have a GPU set up on your machine.\n"
     ]
    }
   ],
   "source": [
    "import spacy"
   ]
  },
  {
   "cell_type": "code",
   "execution_count": 2,
   "id": "7e7ba8a2",
   "metadata": {},
   "outputs": [],
   "source": [
    "nlp_ner = spacy.load(\"model-best\")"
   ]
  },
  {
   "cell_type": "code",
   "execution_count": 3,
   "id": "54476fdb",
   "metadata": {},
   "outputs": [],
   "source": [
    "doc = nlp_ner('''\n",
    "Augmenter le volume de  1%\n",
    "Diminuer le son de  2%\n",
    "Ouvrir le dossier  ber\n",
    "Lister le dossier  Ber\n",
    "écrire dans le fichier  exercice.txt\n",
    "Diminuer le son de  5%\n",
    "Ouvrir le dossier  Bor\n",
    "Supprimer le fichier  file.txt\n",
    "Ouvrir le dossier China\n",
    "Ouvrir le fichier laptop\n",
    "supprimer le dossier NAjoua\n",
    "''')"
   ]
  },
  {
   "cell_type": "code",
   "execution_count": 4,
   "id": "e755325b",
   "metadata": {},
   "outputs": [
    {
     "data": {
      "text/html": [
       "<span class=\"tex2jax_ignore\"><div class=\"entities\" style=\"line-height: 2.5; direction: ltr\"></br>\n",
       "<mark class=\"entity\" style=\"background: #85C1E9; padding: 0.45em 0.6em; margin: 0 0.25em; line-height: 1; border-radius: 0.35em;\">\n",
       "    Augmenter\n",
       "    <span style=\"font-size: 0.8em; font-weight: bold; line-height: 1; border-radius: 0.35em; vertical-align: middle; margin-left: 0.5rem\">ACTION</span>\n",
       "</mark>\n",
       " le \n",
       "<mark class=\"entity\" style=\"background: #ff6961; padding: 0.45em 0.6em; margin: 0 0.25em; line-height: 1; border-radius: 0.35em;\">\n",
       "    volume\n",
       "    <span style=\"font-size: 0.8em; font-weight: bold; line-height: 1; border-radius: 0.35em; vertical-align: middle; margin-left: 0.5rem\">CIBLE</span>\n",
       "</mark>\n",
       " de  \n",
       "<mark class=\"entity\" style=\"background: #F9F9F1; padding: 0.45em 0.6em; margin: 0 0.25em; line-height: 1; border-radius: 0.35em;\">\n",
       "    1%\n",
       "    <span style=\"font-size: 0.8em; font-weight: bold; line-height: 1; border-radius: 0.35em; vertical-align: middle; margin-left: 0.5rem\">VALEUR</span>\n",
       "</mark>\n",
       "</br>\n",
       "<mark class=\"entity\" style=\"background: #85C1E9; padding: 0.45em 0.6em; margin: 0 0.25em; line-height: 1; border-radius: 0.35em;\">\n",
       "    Diminuer\n",
       "    <span style=\"font-size: 0.8em; font-weight: bold; line-height: 1; border-radius: 0.35em; vertical-align: middle; margin-left: 0.5rem\">ACTION</span>\n",
       "</mark>\n",
       " le \n",
       "<mark class=\"entity\" style=\"background: #ff6961; padding: 0.45em 0.6em; margin: 0 0.25em; line-height: 1; border-radius: 0.35em;\">\n",
       "    son\n",
       "    <span style=\"font-size: 0.8em; font-weight: bold; line-height: 1; border-radius: 0.35em; vertical-align: middle; margin-left: 0.5rem\">CIBLE</span>\n",
       "</mark>\n",
       " de  \n",
       "<mark class=\"entity\" style=\"background: #F9F9F1; padding: 0.45em 0.6em; margin: 0 0.25em; line-height: 1; border-radius: 0.35em;\">\n",
       "    2%\n",
       "    <span style=\"font-size: 0.8em; font-weight: bold; line-height: 1; border-radius: 0.35em; vertical-align: middle; margin-left: 0.5rem\">VALEUR</span>\n",
       "</mark>\n",
       "</br>\n",
       "<mark class=\"entity\" style=\"background: #85C1E9; padding: 0.45em 0.6em; margin: 0 0.25em; line-height: 1; border-radius: 0.35em;\">\n",
       "    Ouvrir\n",
       "    <span style=\"font-size: 0.8em; font-weight: bold; line-height: 1; border-radius: 0.35em; vertical-align: middle; margin-left: 0.5rem\">ACTION</span>\n",
       "</mark>\n",
       " le \n",
       "<mark class=\"entity\" style=\"background: #ff6961; padding: 0.45em 0.6em; margin: 0 0.25em; line-height: 1; border-radius: 0.35em;\">\n",
       "    dossier\n",
       "    <span style=\"font-size: 0.8em; font-weight: bold; line-height: 1; border-radius: 0.35em; vertical-align: middle; margin-left: 0.5rem\">CIBLE</span>\n",
       "</mark>\n",
       "  \n",
       "<mark class=\"entity\" style=\"background: #F9F9F1; padding: 0.45em 0.6em; margin: 0 0.25em; line-height: 1; border-radius: 0.35em;\">\n",
       "    ber\n",
       "    <span style=\"font-size: 0.8em; font-weight: bold; line-height: 1; border-radius: 0.35em; vertical-align: middle; margin-left: 0.5rem\">VALEUR</span>\n",
       "</mark>\n",
       "</br>\n",
       "<mark class=\"entity\" style=\"background: #85C1E9; padding: 0.45em 0.6em; margin: 0 0.25em; line-height: 1; border-radius: 0.35em;\">\n",
       "    Lister\n",
       "    <span style=\"font-size: 0.8em; font-weight: bold; line-height: 1; border-radius: 0.35em; vertical-align: middle; margin-left: 0.5rem\">ACTION</span>\n",
       "</mark>\n",
       " le \n",
       "<mark class=\"entity\" style=\"background: #ff6961; padding: 0.45em 0.6em; margin: 0 0.25em; line-height: 1; border-radius: 0.35em;\">\n",
       "    dossier\n",
       "    <span style=\"font-size: 0.8em; font-weight: bold; line-height: 1; border-radius: 0.35em; vertical-align: middle; margin-left: 0.5rem\">CIBLE</span>\n",
       "</mark>\n",
       "  \n",
       "<mark class=\"entity\" style=\"background: #F9F9F1; padding: 0.45em 0.6em; margin: 0 0.25em; line-height: 1; border-radius: 0.35em;\">\n",
       "    Ber\n",
       "    <span style=\"font-size: 0.8em; font-weight: bold; line-height: 1; border-radius: 0.35em; vertical-align: middle; margin-left: 0.5rem\">VALEUR</span>\n",
       "</mark>\n",
       "</br>\n",
       "<mark class=\"entity\" style=\"background: #85C1E9; padding: 0.45em 0.6em; margin: 0 0.25em; line-height: 1; border-radius: 0.35em;\">\n",
       "    écrire\n",
       "    <span style=\"font-size: 0.8em; font-weight: bold; line-height: 1; border-radius: 0.35em; vertical-align: middle; margin-left: 0.5rem\">ACTION</span>\n",
       "</mark>\n",
       " dans le \n",
       "<mark class=\"entity\" style=\"background: #ff6961; padding: 0.45em 0.6em; margin: 0 0.25em; line-height: 1; border-radius: 0.35em;\">\n",
       "    fichier\n",
       "    <span style=\"font-size: 0.8em; font-weight: bold; line-height: 1; border-radius: 0.35em; vertical-align: middle; margin-left: 0.5rem\">CIBLE</span>\n",
       "</mark>\n",
       "  \n",
       "<mark class=\"entity\" style=\"background: #F9F9F1; padding: 0.45em 0.6em; margin: 0 0.25em; line-height: 1; border-radius: 0.35em;\">\n",
       "    exercice.txt\n",
       "    <span style=\"font-size: 0.8em; font-weight: bold; line-height: 1; border-radius: 0.35em; vertical-align: middle; margin-left: 0.5rem\">VALEUR</span>\n",
       "</mark>\n",
       "</br>\n",
       "<mark class=\"entity\" style=\"background: #85C1E9; padding: 0.45em 0.6em; margin: 0 0.25em; line-height: 1; border-radius: 0.35em;\">\n",
       "    Diminuer\n",
       "    <span style=\"font-size: 0.8em; font-weight: bold; line-height: 1; border-radius: 0.35em; vertical-align: middle; margin-left: 0.5rem\">ACTION</span>\n",
       "</mark>\n",
       " le \n",
       "<mark class=\"entity\" style=\"background: #ff6961; padding: 0.45em 0.6em; margin: 0 0.25em; line-height: 1; border-radius: 0.35em;\">\n",
       "    son\n",
       "    <span style=\"font-size: 0.8em; font-weight: bold; line-height: 1; border-radius: 0.35em; vertical-align: middle; margin-left: 0.5rem\">CIBLE</span>\n",
       "</mark>\n",
       " de  \n",
       "<mark class=\"entity\" style=\"background: #F9F9F1; padding: 0.45em 0.6em; margin: 0 0.25em; line-height: 1; border-radius: 0.35em;\">\n",
       "    5%\n",
       "    <span style=\"font-size: 0.8em; font-weight: bold; line-height: 1; border-radius: 0.35em; vertical-align: middle; margin-left: 0.5rem\">VALEUR</span>\n",
       "</mark>\n",
       "</br>\n",
       "<mark class=\"entity\" style=\"background: #85C1E9; padding: 0.45em 0.6em; margin: 0 0.25em; line-height: 1; border-radius: 0.35em;\">\n",
       "    Ouvrir\n",
       "    <span style=\"font-size: 0.8em; font-weight: bold; line-height: 1; border-radius: 0.35em; vertical-align: middle; margin-left: 0.5rem\">ACTION</span>\n",
       "</mark>\n",
       " le \n",
       "<mark class=\"entity\" style=\"background: #ff6961; padding: 0.45em 0.6em; margin: 0 0.25em; line-height: 1; border-radius: 0.35em;\">\n",
       "    dossier\n",
       "    <span style=\"font-size: 0.8em; font-weight: bold; line-height: 1; border-radius: 0.35em; vertical-align: middle; margin-left: 0.5rem\">CIBLE</span>\n",
       "</mark>\n",
       "  \n",
       "<mark class=\"entity\" style=\"background: #F9F9F1; padding: 0.45em 0.6em; margin: 0 0.25em; line-height: 1; border-radius: 0.35em;\">\n",
       "    Bor\n",
       "    <span style=\"font-size: 0.8em; font-weight: bold; line-height: 1; border-radius: 0.35em; vertical-align: middle; margin-left: 0.5rem\">VALEUR</span>\n",
       "</mark>\n",
       "</br>\n",
       "<mark class=\"entity\" style=\"background: #85C1E9; padding: 0.45em 0.6em; margin: 0 0.25em; line-height: 1; border-radius: 0.35em;\">\n",
       "    Supprimer\n",
       "    <span style=\"font-size: 0.8em; font-weight: bold; line-height: 1; border-radius: 0.35em; vertical-align: middle; margin-left: 0.5rem\">ACTION</span>\n",
       "</mark>\n",
       " le \n",
       "<mark class=\"entity\" style=\"background: #ff6961; padding: 0.45em 0.6em; margin: 0 0.25em; line-height: 1; border-radius: 0.35em;\">\n",
       "    fichier\n",
       "    <span style=\"font-size: 0.8em; font-weight: bold; line-height: 1; border-radius: 0.35em; vertical-align: middle; margin-left: 0.5rem\">CIBLE</span>\n",
       "</mark>\n",
       "  \n",
       "<mark class=\"entity\" style=\"background: #F9F9F1; padding: 0.45em 0.6em; margin: 0 0.25em; line-height: 1; border-radius: 0.35em;\">\n",
       "    file.txt\n",
       "    <span style=\"font-size: 0.8em; font-weight: bold; line-height: 1; border-radius: 0.35em; vertical-align: middle; margin-left: 0.5rem\">VALEUR</span>\n",
       "</mark>\n",
       "</br>\n",
       "<mark class=\"entity\" style=\"background: #85C1E9; padding: 0.45em 0.6em; margin: 0 0.25em; line-height: 1; border-radius: 0.35em;\">\n",
       "    Ouvrir\n",
       "    <span style=\"font-size: 0.8em; font-weight: bold; line-height: 1; border-radius: 0.35em; vertical-align: middle; margin-left: 0.5rem\">ACTION</span>\n",
       "</mark>\n",
       " le \n",
       "<mark class=\"entity\" style=\"background: #ff6961; padding: 0.45em 0.6em; margin: 0 0.25em; line-height: 1; border-radius: 0.35em;\">\n",
       "    dossier\n",
       "    <span style=\"font-size: 0.8em; font-weight: bold; line-height: 1; border-radius: 0.35em; vertical-align: middle; margin-left: 0.5rem\">CIBLE</span>\n",
       "</mark>\n",
       " \n",
       "<mark class=\"entity\" style=\"background: #F9F9F1; padding: 0.45em 0.6em; margin: 0 0.25em; line-height: 1; border-radius: 0.35em;\">\n",
       "    China\n",
       "    <span style=\"font-size: 0.8em; font-weight: bold; line-height: 1; border-radius: 0.35em; vertical-align: middle; margin-left: 0.5rem\">VALEUR</span>\n",
       "</mark>\n",
       "</br>\n",
       "<mark class=\"entity\" style=\"background: #85C1E9; padding: 0.45em 0.6em; margin: 0 0.25em; line-height: 1; border-radius: 0.35em;\">\n",
       "    Ouvrir\n",
       "    <span style=\"font-size: 0.8em; font-weight: bold; line-height: 1; border-radius: 0.35em; vertical-align: middle; margin-left: 0.5rem\">ACTION</span>\n",
       "</mark>\n",
       " le \n",
       "<mark class=\"entity\" style=\"background: #ff6961; padding: 0.45em 0.6em; margin: 0 0.25em; line-height: 1; border-radius: 0.35em;\">\n",
       "    fichier\n",
       "    <span style=\"font-size: 0.8em; font-weight: bold; line-height: 1; border-radius: 0.35em; vertical-align: middle; margin-left: 0.5rem\">CIBLE</span>\n",
       "</mark>\n",
       " \n",
       "<mark class=\"entity\" style=\"background: #F9F9F1; padding: 0.45em 0.6em; margin: 0 0.25em; line-height: 1; border-radius: 0.35em;\">\n",
       "    laptop\n",
       "    <span style=\"font-size: 0.8em; font-weight: bold; line-height: 1; border-radius: 0.35em; vertical-align: middle; margin-left: 0.5rem\">VALEUR</span>\n",
       "</mark>\n",
       "</br>\n",
       "<mark class=\"entity\" style=\"background: #85C1E9; padding: 0.45em 0.6em; margin: 0 0.25em; line-height: 1; border-radius: 0.35em;\">\n",
       "    supprimer\n",
       "    <span style=\"font-size: 0.8em; font-weight: bold; line-height: 1; border-radius: 0.35em; vertical-align: middle; margin-left: 0.5rem\">ACTION</span>\n",
       "</mark>\n",
       " le \n",
       "<mark class=\"entity\" style=\"background: #ff6961; padding: 0.45em 0.6em; margin: 0 0.25em; line-height: 1; border-radius: 0.35em;\">\n",
       "    dossier\n",
       "    <span style=\"font-size: 0.8em; font-weight: bold; line-height: 1; border-radius: 0.35em; vertical-align: middle; margin-left: 0.5rem\">CIBLE</span>\n",
       "</mark>\n",
       " \n",
       "<mark class=\"entity\" style=\"background: #F9F9F1; padding: 0.45em 0.6em; margin: 0 0.25em; line-height: 1; border-radius: 0.35em;\">\n",
       "    NAjoua\n",
       "    <span style=\"font-size: 0.8em; font-weight: bold; line-height: 1; border-radius: 0.35em; vertical-align: middle; margin-left: 0.5rem\">VALEUR</span>\n",
       "</mark>\n",
       "</br></div></span>"
      ],
      "text/plain": [
       "<IPython.core.display.HTML object>"
      ]
     },
     "metadata": {},
     "output_type": "display_data"
    }
   ],
   "source": [
    "from spacy import displacy\n",
    "colors = {'ACTION': \"#85C1E9\", \"CIBLE\": \"#ff6961\",\"VALEUR\": \"#F9F9F1\"}\n",
    "options = {\"ents\": ['ACTION', 'CIBLE','VALEUR'], \"colors\": colors}\n",
    "\n",
    "displacy.render(doc,style='ent',jupyter=True, options =options) # displayµ in jupyter"
   ]
  },
  {
   "cell_type": "code",
   "execution_count": 5,
   "id": "4587b353",
   "metadata": {},
   "outputs": [
    {
     "name": "stdout",
     "output_type": "stream",
     "text": [
      "Entities {'ACTION': 'déplacer', 'CIBLE': 'dossier', 'VALEUR': 'Dow'}\n"
     ]
    }
   ],
   "source": [
    "new_doc = nlp_ner(\"\"\" se déplacer dans le dossier  Dow \"\"\" )\n",
    "print(\"Entities\", {ent.label_ : ent.text for ent in new_doc.ents})"
   ]
  },
  {
   "cell_type": "code",
   "execution_count": 6,
   "id": "b2470c32",
   "metadata": {},
   "outputs": [
    {
     "name": "stdout",
     "output_type": "stream",
     "text": [
      "Entities {'ACTION': 'supprimer', 'CIBLE': 'dossier', 'VALEUR': 'Toni'}\n"
     ]
    }
   ],
   "source": [
    "doc_2 = nlp_ner(\"\"\" supprimer le dossier  Toni \"\"\") \n",
    "print(\"Entities\", {ent.label_ : ent.text for ent in doc_2.ents})"
   ]
  },
  {
   "cell_type": "code",
   "execution_count": 7,
   "id": "40d13d1f",
   "metadata": {},
   "outputs": [
    {
     "data": {
      "text/plain": [
       "[('ACTION', 'lister'), ('CIBLE', 'dossier'), ('VALEUR', 'Dow')]"
      ]
     },
     "execution_count": 7,
     "metadata": {},
     "output_type": "execute_result"
    }
   ],
   "source": [
    "doc_3 = nlp_ner(\"\"\" lister le  dossier Dow \"\"\") \n",
    "entities = [(ent.label_ , ent.text) for ent in doc_3.ents]\n",
    "entities\n",
    "# print(\"Entities\", {ent.label_ : ent.text for ent in doc_3.ents})"
   ]
  },
  {
   "cell_type": "code",
   "execution_count": 8,
   "id": "1b9d18d9",
   "metadata": {},
   "outputs": [
    {
     "data": {
      "text/plain": [
       "[('ACTION', 'ouvrir'), ('CIBLE', 'dossier'), ('VALEUR', 'Bobo')]"
      ]
     },
     "execution_count": 8,
     "metadata": {},
     "output_type": "execute_result"
    }
   ],
   "source": [
    "doc_4 = nlp_ner(\"\"\" ouvrir le dossier Bobo \"\"\") \n",
    "entities = [(ent.label_ , ent.text) for ent in doc_4.ents]\n",
    "entities"
   ]
  },
  {
   "cell_type": "code",
   "execution_count": 10,
   "id": "157753c5",
   "metadata": {},
   "outputs": [
    {
     "name": "stdout",
     "output_type": "stream",
     "text": [
      "Entities {'ACTION': 'renommer', 'CIBLE': 'dossier'}\n"
     ]
    }
   ],
   "source": [
    "doc_5 = nlp_ner(\"\"\" renommer le dossier ban en ben \"\"\") \n",
    "print(\"Entities\", {ent.label_ : ent.text for ent in doc_5.ents})"
   ]
  },
  {
   "cell_type": "code",
   "execution_count": null,
   "id": "b53b4849",
   "metadata": {},
   "outputs": [],
   "source": []
  }
 ],
 "metadata": {
  "kernelspec": {
   "display_name": "Python 3 (ipykernel)",
   "language": "python",
   "name": "python3"
  },
  "language_info": {
   "codemirror_mode": {
    "name": "ipython",
    "version": 3
   },
   "file_extension": ".py",
   "mimetype": "text/x-python",
   "name": "python",
   "nbconvert_exporter": "python",
   "pygments_lexer": "ipython3",
   "version": "3.9.12"
  }
 },
 "nbformat": 4,
 "nbformat_minor": 5
}
